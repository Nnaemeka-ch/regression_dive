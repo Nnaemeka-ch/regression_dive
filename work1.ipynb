{
 "cells": [
  {
   "cell_type": "code",
   "execution_count": 18,
   "id": "7a0ab21e",
   "metadata": {},
   "outputs": [],
   "source": [
    "import pandas as pd\n",
    "import numpy as np\n",
    "from sklearn.preprocessing import MinMaxScaler"
   ]
  },
  {
   "cell_type": "code",
   "execution_count": 19,
   "id": "4efe6a1e",
   "metadata": {},
   "outputs": [
    {
     "data": {
      "text/html": [
       "<div>\n",
       "<style scoped>\n",
       "    .dataframe tbody tr th:only-of-type {\n",
       "        vertical-align: middle;\n",
       "    }\n",
       "\n",
       "    .dataframe tbody tr th {\n",
       "        vertical-align: top;\n",
       "    }\n",
       "\n",
       "    .dataframe thead th {\n",
       "        text-align: right;\n",
       "    }\n",
       "</style>\n",
       "<table border=\"1\" class=\"dataframe\">\n",
       "  <thead>\n",
       "    <tr style=\"text-align: right;\">\n",
       "      <th></th>\n",
       "      <th>Age</th>\n",
       "      <th>Experience</th>\n",
       "      <th>EducationYears</th>\n",
       "      <th>HoursPerWeek</th>\n",
       "      <th>Certifications</th>\n",
       "      <th>Projects</th>\n",
       "      <th>Salary</th>\n",
       "    </tr>\n",
       "  </thead>\n",
       "  <tbody>\n",
       "    <tr>\n",
       "      <th>0</th>\n",
       "      <td>56</td>\n",
       "      <td>7</td>\n",
       "      <td>14</td>\n",
       "      <td>46</td>\n",
       "      <td>1</td>\n",
       "      <td>1</td>\n",
       "      <td>70017</td>\n",
       "    </tr>\n",
       "    <tr>\n",
       "      <th>1</th>\n",
       "      <td>46</td>\n",
       "      <td>23</td>\n",
       "      <td>19</td>\n",
       "      <td>46</td>\n",
       "      <td>0</td>\n",
       "      <td>0</td>\n",
       "      <td>68168</td>\n",
       "    </tr>\n",
       "    <tr>\n",
       "      <th>2</th>\n",
       "      <td>32</td>\n",
       "      <td>10</td>\n",
       "      <td>15</td>\n",
       "      <td>53</td>\n",
       "      <td>4</td>\n",
       "      <td>6</td>\n",
       "      <td>67490</td>\n",
       "    </tr>\n",
       "    <tr>\n",
       "      <th>3</th>\n",
       "      <td>60</td>\n",
       "      <td>16</td>\n",
       "      <td>16</td>\n",
       "      <td>40</td>\n",
       "      <td>4</td>\n",
       "      <td>7</td>\n",
       "      <td>76764</td>\n",
       "    </tr>\n",
       "    <tr>\n",
       "      <th>4</th>\n",
       "      <td>25</td>\n",
       "      <td>7</td>\n",
       "      <td>13</td>\n",
       "      <td>49</td>\n",
       "      <td>0</td>\n",
       "      <td>6</td>\n",
       "      <td>65783</td>\n",
       "    </tr>\n",
       "  </tbody>\n",
       "</table>\n",
       "</div>"
      ],
      "text/plain": [
       "   Age  Experience  EducationYears  HoursPerWeek  Certifications  Projects  \\\n",
       "0   56           7              14            46               1         1   \n",
       "1   46          23              19            46               0         0   \n",
       "2   32          10              15            53               4         6   \n",
       "3   60          16              16            40               4         7   \n",
       "4   25           7              13            49               0         6   \n",
       "\n",
       "   Salary  \n",
       "0   70017  \n",
       "1   68168  \n",
       "2   67490  \n",
       "3   76764  \n",
       "4   65783  "
      ]
     },
     "execution_count": 19,
     "metadata": {},
     "output_type": "execute_result"
    }
   ],
   "source": [
    "df = pd.read_csv('practice_linear_regression_dataset.csv')\n",
    "df.head()"
   ]
  },
  {
   "cell_type": "code",
   "execution_count": null,
   "id": "905690c4",
   "metadata": {},
   "outputs": [
    {
     "name": "stdout",
     "output_type": "stream",
     "text": [
      "Experience        0.656428\n",
      "Age               0.354878\n",
      "EducationYears    0.333485\n",
      "HoursPerWeek      0.255432\n",
      "Projects          0.218445\n",
      "Certifications    0.148275\n",
      "Name: Salary, dtype: float64\n"
     ]
    }
   ],
   "source": [
    "corr = df.corr()[\"Salary\"].drop(\"Salary\").sort_values(ascending=False)\n",
    "print(corr)"
   ]
  },
  {
   "cell_type": "code",
   "execution_count": null,
   "id": "e339b11e",
   "metadata": {},
   "outputs": [
    {
     "name": "stdout",
     "output_type": "stream",
     "text": [
      "Selected features (Search + Filter): ['Experience']\n"
     ]
    }
   ],
   "source": [
    "# Search-Based Feature Selection using filter evaluation\n",
    "# forward feature selection with redundancy penalty.\n",
    "\n",
    "def subset_score(features, data, target_name=\"Salary\"):\n",
    "    \"\"\" Score subset = avg corr(feature,target) - avg corr(feature,feature)\"\"\"\n",
    "    if not features:  # empty list\n",
    "        return 0\n",
    "    \n",
    "    subset = data[features]\n",
    "    corr_with_target = subset.corrwith(data[target_name]).mean()\n",
    "\n",
    "    # redundancy penalty: average absolute correlation among features\n",
    "    if len(features) > 1:\n",
    "        corr_matrix = subset.corr().abs()\n",
    "        redundancy = (corr_matrix.values.sum() - len(features)) / (len(features)*(len(features)-1))\n",
    "    else:\n",
    "        redundancy = 0\n",
    "    return corr_with_target - redundancy\n",
    "\n",
    "available = df.drop(columns=\"Salary\").columns.tolist()\n",
    "selected = []\n",
    "\n",
    "while available:\n",
    "    best_feature = None\n",
    "    best_score = -np.inf\n",
    "    for f in available:\n",
    "        score = subset_score(selected + [f], df)\n",
    "        if score > best_score:\n",
    "            best_score = score\n",
    "            best_feature = f\n",
    "    # stopping rule: only add if it improves\n",
    "    if best_score > subset_score(selected, df):\n",
    "        selected.append(best_feature)\n",
    "        available.remove(best_feature)\n",
    "    else:\n",
    "        break\n",
    "\n",
    "print(\"Selected features (Search + Filter):\", selected)"
   ]
  },
  {
   "cell_type": "code",
   "execution_count": null,
   "id": "db5b56e7",
   "metadata": {},
   "outputs": [
    {
     "name": "stdout",
     "output_type": "stream",
     "text": [
      "Selected features (Backward Elimination): ['Experience']\n"
     ]
    }
   ],
   "source": [
    "# Search-Based Feature Selection using filter evaluation\n",
    "# Backward Elimination Version.\n",
    "\n",
    "def subset_score(features, data, target_name=\"Salary\"):\n",
    "    \"\"\" Score subset = avg corr(feature,target) - avg corr(feature,feature)\"\"\"\n",
    "    if not features:  # empty list\n",
    "        return 0\n",
    "    \n",
    "    subset = data[features]\n",
    "    corr_with_target = subset.corrwith(data[target_name]).mean()\n",
    "\n",
    "    # redundancy penalty: average absolute correlation among features\n",
    "    if len(features) > 1:\n",
    "        corr_matrix = subset.corr().abs()\n",
    "        redundancy = (corr_matrix.values.sum() - len(features)) / (len(features)*(len(features)-1))\n",
    "    else:\n",
    "        redundancy = 0\n",
    "    return corr_with_target - redundancy\n",
    "\n",
    "\n",
    "# Start with all features selected\n",
    "selected = df.drop(columns=\"Salary\").columns.tolist()\n",
    "\n",
    "while True:\n",
    "    worst_feature = None\n",
    "    best_score_after_removal = subset_score(selected, df)  # current score\n",
    "\n",
    "    for f in selected:\n",
    "        # Evaluate score if we remove this feature\n",
    "        score_without_f = subset_score([feat for feat in selected if feat != f], df)\n",
    "        if score_without_f > best_score_after_removal:\n",
    "            best_score_after_removal = score_without_f\n",
    "            worst_feature = f\n",
    "\n",
    "    if worst_feature:  # removing improves the score\n",
    "        selected.remove(worst_feature)\n",
    "    else:\n",
    "        break  # no improvement possible\n",
    "\n",
    "print(\"Selected features (Backward Elimination):\", selected)\n"
   ]
  },
  {
   "cell_type": "code",
   "execution_count": null,
   "id": "d055974f",
   "metadata": {},
   "outputs": [],
   "source": [
    "X = df.drop(columns=['Salary'])\n",
    "y = df['Salary']"
   ]
  },
  {
   "cell_type": "code",
   "execution_count": null,
   "id": "64422887",
   "metadata": {},
   "outputs": [],
   "source": [
    "# Train - Test Split\n",
    "\n",
    "rng = np.random.default_rng(42)\n",
    "row_positions = np.arange(X.shape[0]) # all row indices\n",
    "rng.shuffle(row_positions) # shuffle in place\n",
    "\n",
    "split_point = int(0.8 * X.shape[0])  # 80% train, 20% test\n",
    "\n",
    "X_train_idx, X_test_idx = row_positions[:split_point], row_positions[split_point:]\n",
    "\n",
    "X_train, X_test = X.iloc[X_train_idx], X.iloc[X_test_idx]\n",
    "y_train, y_test = y.iloc[X_train_idx], y.iloc[X_test_idx]\n"
   ]
  },
  {
   "cell_type": "code",
   "execution_count": null,
   "id": "d7c4a18f",
   "metadata": {},
   "outputs": [
    {
     "name": "stdout",
     "output_type": "stream",
     "text": [
      "Age  (18, 64)\n",
      "Experience  (0, 39)\n",
      "EducationYears  (10, 19)\n",
      "HoursPerWeek  (20, 59)\n",
      "Certifications  (0, 4)\n",
      "Projects  (0, 9)\n"
     ]
    }
   ],
   "source": [
    "# Check range of features\n",
    "\n",
    "# Checking min/max of all columns before scaling\n",
    "def check_feature_range(col):\n",
    "    return (min(col), max(col))\n",
    "\n",
    "for col in X_train.columns:\n",
    "    print(col + \"  \" + str(check_feature_range(X_train[col])))\n"
   ]
  },
  {
   "cell_type": "code",
   "execution_count": null,
   "id": "3998d1c6",
   "metadata": {},
   "outputs": [
    {
     "name": "stdout",
     "output_type": "stream",
     "text": [
      "         Age  Experience  EducationYears  HoursPerWeek  Certifications  \\\n",
      "59  0.760870    0.692308        0.777778      0.333333            0.00   \n",
      "21  0.804348    1.000000        0.222222      0.769231            0.25   \n",
      "\n",
      "    Projects  \n",
      "59  0.444444  \n",
      "21  0.222222  \n"
     ]
    }
   ],
   "source": [
    "# Feature scaling using MinMaxScaler\n",
    "minmax_scaler = MinMaxScaler()\n",
    "\n",
    "# Fit on training and transform\n",
    "X_train_scaled = minmax_scaler.fit_transform(X_train)\n",
    "\n",
    "\n",
    "# Convert back to DataFrame with same column names to test/see the first few rows\n",
    "X_train_scaled_copy = X_train_scaled.copy()\n",
    "X_train_scaled_copy = pd.DataFrame(X_train_scaled_copy, columns=X_train.columns, index=X_train.index)\n",
    "\n",
    "# Now you can use .head()\n",
    "print(X_train_scaled_copy.head(2))"
   ]
  },
  {
   "cell_type": "code",
   "execution_count": null,
   "id": "a94d4fe5",
   "metadata": {},
   "outputs": [],
   "source": [
    "# Use the same scaler to transform test data (this time we are NOT fitting again)\n",
    "X_test_scaled = minmax_scaler.transform(X_test)"
   ]
  }
 ],
 "metadata": {
  "kernelspec": {
   "display_name": "Python 3",
   "language": "python",
   "name": "python3"
  },
  "language_info": {
   "codemirror_mode": {
    "name": "ipython",
    "version": 3
   },
   "file_extension": ".py",
   "mimetype": "text/x-python",
   "name": "python",
   "nbconvert_exporter": "python",
   "pygments_lexer": "ipython3",
   "version": "3.13.0"
  }
 },
 "nbformat": 4,
 "nbformat_minor": 5
}
